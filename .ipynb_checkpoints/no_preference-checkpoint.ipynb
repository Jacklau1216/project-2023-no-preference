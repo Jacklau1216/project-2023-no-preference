{
 "cells": [
  {
   "cell_type": "markdown",
   "metadata": {},
   "source": [
    "## COM-480 | Project of Data Visualization\n",
    "\n",
    "Team: \"no preference\"\n",
    "\n",
    "Member: Ulysse Widmer, Jack Lau, Luis Busta\n",
    "\n",
    "Topic: Player engagement with respect to game genres on Steam public data"
   ]
  },
  {
   "cell_type": "markdown",
   "metadata": {},
   "source": [
    "## Dataset"
   ]
  },
  {
   "cell_type": "markdown",
   "metadata": {},
   "source": [
    "#### Dataset on Kaggle\n",
    "* [Steam video games](https://www.kaggle.com/datasets/tamber/steam-video-games)\n",
    "* [Steam store games](https://www.kaggle.com/datasets/nikdavis/steam-store-games)\n",
    "* [Steam player data](https://www.kaggle.com/datasets/jackogozaly/steam-player-data)\n",
    "* [Steam games complete dataset](https://www.kaggle.com/datasets/trolukovich/steam-games-complete-dataset)\n",
    "* [Steam dataset](https://www.kaggle.com/datasets/souyama/steam-dataset)\n",
    "\n",
    "#### Web api\n",
    "* [Steam web api from valve](https://developer.valvesoftware.com/wiki/Steam_Web_API)"
   ]
  },
  {
   "cell_type": "code",
   "execution_count": 1,
   "metadata": {},
   "outputs": [
    {
     "data": {
      "application/javascript": [
       "async function logJSONData() {\n",
       "  const response = await fetch(\"http://example.com/movies.json\");\n",
       "  const jsonData = await response.json();\n",
       "  console.log(jsonData);\n",
       "}\n"
      ],
      "text/plain": [
       "<IPython.core.display.Javascript object>"
      ]
     },
     "metadata": {},
     "output_type": "display_data"
    }
   ],
   "source": [
    "%%js\n",
    "alert('hi');\n",
    "async function logJSONData() {\n",
    "  const response = await fetch(\"http://example.com/movies.json\");\n",
    "  const jsonData = await response.json();\n",
    "  console.log(jsonData);\n",
    "}"
   ]
  },
  {
   "cell_type": "markdown",
   "metadata": {},
   "source": [
    "## Pre-processing"
   ]
  },
  {
   "cell_type": "code",
   "execution_count": null,
   "metadata": {},
   "outputs": [],
   "source": []
  },
  {
   "cell_type": "markdown",
   "metadata": {},
   "source": [
    "## Data analysis"
   ]
  }
 ],
 "metadata": {
  "kernelspec": {
   "display_name": "Python 3 (ipykernel)",
   "language": "python",
   "name": "python3"
  },
  "language_info": {
   "codemirror_mode": {
    "name": "ipython",
    "version": 3
   },
   "file_extension": ".py",
   "mimetype": "text/x-python",
   "name": "python",
   "nbconvert_exporter": "python",
   "pygments_lexer": "ipython3",
   "version": "3.9.13"
  },
  "vscode": {
   "interpreter": {
    "hash": "e3f2a733c2768fd0b48f567c9c49c153ac06dfa727864d4e3c9ae02200777f8b"
   }
  }
 },
 "nbformat": 4,
 "nbformat_minor": 2
}
