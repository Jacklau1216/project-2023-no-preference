{
 "cells": [
  {
   "cell_type": "markdown",
   "metadata": {},
   "source": [
    "## COM-480 | Project of Data Visualization\n",
    "\n",
    "Team: \"no preference\"\n",
    "\n",
    "Member: Ulysse Widmer, Jack Lau, Luis Busta\n",
    "\n",
    "Topic: Player engagement with respect to game genres on Steam public data"
   ]
  },
  {
   "cell_type": "markdown",
   "metadata": {},
   "source": [
    "## Dataset"
   ]
  },
  {
   "attachments": {},
   "cell_type": "markdown",
   "metadata": {},
   "source": [
    "#### Dataset on Kaggle\n",
    "* [Steam video games](https://www.kaggle.com/datasets/tamber/steam-video-games)\n",
    "* [Steam store games](https://www.kaggle.com/datasets/nikdavis/steam-store-games)\n",
    "* [Steam player data](https://www.kaggle.com/datasets/jackogozaly/steam-player-data)\n",
    "* [Steam games complete dataset](https://www.kaggle.com/datasets/trolukovich/steam-games-complete-dataset)\n",
    "* [Steam dataset](https://www.kaggle.com/datasets/souyama/steam-dataset)\n",
    "* [Historical player count](https://data.mendeley.com/datasets/ycy3sy3vj2/1)\n",
    "#### Web api\n",
    "* [Steam web api from valve](https://developer.valvesoftware.com/wiki/Steam_Web_API) | \n",
    "[(It is not possible to get historical data for steam web api)](https://stackoverflow.com/questions/45983820/steam-api-get-historical-player-count-of-specific-game)"
   ]
  },
  {
   "cell_type": "code",
   "execution_count": 115,
   "metadata": {},
   "outputs": [],
   "source": [
    "# import all the library needed\n",
    "import pandas as pd\n",
    "import matplotlib.pyplot as plt\n",
    "import requests\n",
    "import seaborn as sns\n",
    "import re\n",
    "\n",
    "sns.set_style(\"whitegrid\")\n",
    "\n",
    "# all game list => http://api.steampowered.com/ISteamApps/GetAppList/v2\n",
    "# current player list => http://api.steampowered.com/ISteamUserStats/GetNumberOfCurrentPlayers/v1/?appid={}\n",
    "# get global stats for game => http://api.steampowered.com/ISteamUserStats/GetGlobalStatsForGame/v0001/?appid={}\n",
    "#! We can't get historical data from steam web api, but we can get the current player of different genre\n",
    "\n",
    "games = requests.get(\"https://steamspy.com/api.php?request=all\")"
   ]
  },
  {
   "cell_type": "code",
   "execution_count": 116,
   "metadata": {},
   "outputs": [
    {
     "ename": "KeyError",
     "evalue": "'genre'",
     "output_type": "error",
     "traceback": [
      "\u001b[1;31m---------------------------------------------------------------------------\u001b[0m",
      "\u001b[1;31mKeyError\u001b[0m                                  Traceback (most recent call last)",
      "\u001b[1;32mc:\\Users\\laula\\OneDrive - HKUST Connect\\2023 Spring exchange\\com480\\project-2023-no-preference\\no_preference.ipynb Cell 5\u001b[0m in \u001b[0;36m<cell line: 9>\u001b[1;34m()\u001b[0m\n\u001b[0;32m     <a href='vscode-notebook-cell:/c%3A/Users/laula/OneDrive%20-%20HKUST%20Connect/2023%20Spring%20exchange/com480/project-2023-no-preference/no_preference.ipynb#X13sZmlsZQ%3D%3D?line=9'>10</a>\u001b[0m     df[\u001b[39m'\u001b[39m\u001b[39mgame_id\u001b[39m\u001b[39m'\u001b[39m]\u001b[39m.\u001b[39mappend(name)\n\u001b[0;32m     <a href='vscode-notebook-cell:/c%3A/Users/laula/OneDrive%20-%20HKUST%20Connect/2023%20Spring%20exchange/com480/project-2023-no-preference/no_preference.ipynb#X13sZmlsZQ%3D%3D?line=10'>11</a>\u001b[0m     df[\u001b[39m'\u001b[39m\u001b[39mplayers\u001b[39m\u001b[39m'\u001b[39m]\u001b[39m.\u001b[39mappend(value[\u001b[39m'\u001b[39m\u001b[39maverage_2weeks\u001b[39m\u001b[39m'\u001b[39m])\n\u001b[1;32m---> <a href='vscode-notebook-cell:/c%3A/Users/laula/OneDrive%20-%20HKUST%20Connect/2023%20Spring%20exchange/com480/project-2023-no-preference/no_preference.ipynb#X13sZmlsZQ%3D%3D?line=11'>12</a>\u001b[0m     df[\u001b[39m'\u001b[39m\u001b[39mgenres\u001b[39m\u001b[39m'\u001b[39m]\u001b[39m.\u001b[39mappend(value[\u001b[39m'\u001b[39;49m\u001b[39mgenre\u001b[39;49m\u001b[39m'\u001b[39;49m])\n\u001b[0;32m     <a href='vscode-notebook-cell:/c%3A/Users/laula/OneDrive%20-%20HKUST%20Connect/2023%20Spring%20exchange/com480/project-2023-no-preference/no_preference.ipynb#X13sZmlsZQ%3D%3D?line=13'>14</a>\u001b[0m df \u001b[39m=\u001b[39m pd\u001b[39m.\u001b[39mDataFrame(df)\n\u001b[0;32m     <a href='vscode-notebook-cell:/c%3A/Users/laula/OneDrive%20-%20HKUST%20Connect/2023%20Spring%20exchange/com480/project-2023-no-preference/no_preference.ipynb#X13sZmlsZQ%3D%3D?line=14'>15</a>\u001b[0m df\u001b[39m.\u001b[39mhead()\n",
      "\u001b[1;31mKeyError\u001b[0m: 'genre'"
     ]
    }
   ],
   "source": [
    "df = {\n",
    "    \"game_id\":[],\n",
    "    \"genres\":[],\n",
    "    \"players\":[]\n",
    "}\n",
    "\n",
    "counter = 0\n",
    "\n",
    "for name, value in games.json().items():\n",
    "    df['game_id'].append(name)\n",
    "    df['players'].append(value['average_2weeks'])\n",
    "    df['genres'].append(value['genre'])\n",
    "\n",
    "df = pd.DataFrame(df)\n",
    "df.head()"
   ]
  },
  {
   "attachments": {},
   "cell_type": "markdown",
   "metadata": {},
   "source": [
    "## Visualization"
   ]
  },
  {
   "cell_type": "code",
   "execution_count": 99,
   "metadata": {},
   "outputs": [
    {
     "name": "stdout",
     "output_type": "stream",
     "text": [
      "{'game_id': ['1748230', '1748300', '1748390', '1747670', '1747690', '1747830', '1747890', '1748050', '1747650', '1747050', '1745690', '1742470', '1741400', '1740730', '1740930', '1740000', '1740070', '1740150', '1739530', '1739880', '1739970', '1736260', '1736400', '1736450', '1735950', '1735160', '1735300', '1734280', '1734320', '1734390', '1733620', '1733880'], 'genres': ['Adventure', 'Casual', 'Action', 'Casual', 'Adventure', 'Action', 'Adventure', 'Casual', 'Action', 'Adventure', 'Free to Play', 'Casual', 'Indie', 'Action', 'Action', 'Action', 'Indie', 'Action', 'Adventure', 'Action', 'Adventure', 'Casual', 'Casual', 'Simulation', 'Adventure', 'Action', 'Utilities', 'Casual', 'Action', 'RPG', 'Action', 'Action'], 'players': [1, 6, 4, 1, 1, 1, 1, 1, 9, 8, 1, 2, 21, 1, 6, 1, 2, 2, 1, 1, 3, 1, 1, 3, 11, 1, 1, 1, 28, 3, 2, 3]}\n"
     ]
    }
   ],
   "source": [
    "print(df)\n",
    "df = pd.DataFrame(df)"
   ]
  },
  {
   "cell_type": "code",
   "execution_count": 100,
   "metadata": {},
   "outputs": [
    {
     "data": {
      "text/html": [
       "<div>\n",
       "<style scoped>\n",
       "    .dataframe tbody tr th:only-of-type {\n",
       "        vertical-align: middle;\n",
       "    }\n",
       "\n",
       "    .dataframe tbody tr th {\n",
       "        vertical-align: top;\n",
       "    }\n",
       "\n",
       "    .dataframe thead th {\n",
       "        text-align: right;\n",
       "    }\n",
       "</style>\n",
       "<table border=\"1\" class=\"dataframe\">\n",
       "  <thead>\n",
       "    <tr style=\"text-align: right;\">\n",
       "      <th></th>\n",
       "      <th>players</th>\n",
       "    </tr>\n",
       "    <tr>\n",
       "      <th>genres</th>\n",
       "      <th></th>\n",
       "    </tr>\n",
       "  </thead>\n",
       "  <tbody>\n",
       "    <tr>\n",
       "      <th>Action</th>\n",
       "      <td>59</td>\n",
       "    </tr>\n",
       "    <tr>\n",
       "      <th>Adventure</th>\n",
       "      <td>26</td>\n",
       "    </tr>\n",
       "    <tr>\n",
       "      <th>Indie</th>\n",
       "      <td>23</td>\n",
       "    </tr>\n",
       "    <tr>\n",
       "      <th>Casual</th>\n",
       "      <td>13</td>\n",
       "    </tr>\n",
       "    <tr>\n",
       "      <th>RPG</th>\n",
       "      <td>3</td>\n",
       "    </tr>\n",
       "    <tr>\n",
       "      <th>Simulation</th>\n",
       "      <td>3</td>\n",
       "    </tr>\n",
       "    <tr>\n",
       "      <th>Free to Play</th>\n",
       "      <td>1</td>\n",
       "    </tr>\n",
       "    <tr>\n",
       "      <th>Utilities</th>\n",
       "      <td>1</td>\n",
       "    </tr>\n",
       "  </tbody>\n",
       "</table>\n",
       "</div>"
      ],
      "text/plain": [
       "              players\n",
       "genres               \n",
       "Action             59\n",
       "Adventure          26\n",
       "Indie              23\n",
       "Casual             13\n",
       "RPG                 3\n",
       "Simulation          3\n",
       "Free to Play        1\n",
       "Utilities           1"
      ]
     },
     "execution_count": 100,
     "metadata": {},
     "output_type": "execute_result"
    }
   ],
   "source": [
    "plot_df = df.copy()\n",
    "plot_df = plot_df.groupby(['genres']).sum().sort_values('players', ascending=False)\n",
    "plot_df"
   ]
  },
  {
   "cell_type": "code",
   "execution_count": 101,
   "metadata": {},
   "outputs": [
    {
     "data": {
      "text/plain": [
       "<AxesSubplot:xlabel='players', ylabel='genres'>"
      ]
     },
     "execution_count": 101,
     "metadata": {},
     "output_type": "execute_result"
    },
    {
     "data": {
      "image/png": "[encoded data removed]",
      "text/plain": [
       "<Figure size 432x288 with 1 Axes>"
      ]
     },
     "metadata": {},
     "output_type": "display_data"
    }
   ],
   "source": [
    "sns.barplot(x=plot_df.players , y=plot_df.index, errorbar=None)"
   ]
  }
 ],
 "metadata": {
  "kernelspec": {
   "display_name": "Python 3 (ipykernel)",
   "language": "python",
   "name": "python3"
  },
  "language_info": {
   "codemirror_mode": {
    "name": "ipython",
    "version": 3
   },
   "file_extension": ".py",
   "mimetype": "text/x-python",
   "name": "python",
   "nbconvert_exporter": "python",
   "pygments_lexer": "ipython3",
   "version": "3.10.6"
  },
  "vscode": {
   "interpreter": {
    "hash": "e3f2a733c2768fd0b48f567c9c49c153ac06dfa727864d4e3c9ae02200777f8b"
   }
  }
 },
 "nbformat": 4,
 "nbformat_minor": 2
}
